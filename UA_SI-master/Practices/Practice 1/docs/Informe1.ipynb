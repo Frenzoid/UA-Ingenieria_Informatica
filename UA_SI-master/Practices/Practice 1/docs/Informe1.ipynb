{
  "nbformat": 4,
  "nbformat_minor": 0,
  "metadata": {
    "colab": {
      "name": "Practica 1",
      "provenance": [],
      "collapsed_sections": []
    },
    "kernelspec": {
      "name": "python3",
      "display_name": "Python 3"
    },
    "language_info": {
      "name": "python"
    }
  },
  "cells": [
    {
      "cell_type": "markdown",
      "metadata": {
        "id": "KXPhK2pRih2a"
      },
      "source": [
        "<div align=\"center\">\n",
        "  <h1> Práctica 1. Búsqueda heurística. </h1>\n",
        "  <img src=\"https://i.imgur.com/3LPS9YG.png\" />\n",
        "  <h4> Alumno: Elvi Mihai Sabau Sabau <h2>\n",
        "  <h4> DNI: 51254875L<h2>\n",
        "</div>\n",
        "\n",
        "---\n",
        "<div align=\"center\">\n",
        "<h1> Indice </h1>\n",
        "</div>\n",
        "\n",
        "- ## Algoritmo A*\n",
        "  - ### Sobre el algoritmo A*.\n",
        "  - ### Formula y Criterio.\n",
        "- ## Preparando el código de la plantilla.\n",
        "  - ### `Casilla.py`.\n",
        "  - ### `Mapa.py`.\n",
        "  - ### Archivo de Heuristicas: `heuristicas.py`.\n",
        "  - ### `Node.py`.\n",
        "  - ### `main.py`.\n",
        "- ## Implementación del algoritmo A*.\n",
        "  - ### Métodos Auxiliares.\n",
        "    - #### `neighborSlots(Node)`.\n",
        "    - #### `movementCost(n1, n2)`.\n",
        "  - ### Implementación.\n",
        "    - #### `AStar(map, start_slot, end_slot, path, heuristic)`.\n",
        "    - #### Nodos de inicio y fin.\n",
        "    - #### Lista interior y frontera (sets `discovered` y `checked`).\n",
        "    - #### Bucle principal.\n",
        "    - #### Revisión del mejor nodo (`current_best_node`).\n",
        "    - #### Destino Encontrado! Reconstrucción del camino desde los padres.\n",
        "    - #### Actualización del estado del nodo actual.\n",
        "    - #### Bucle de los vecinos.\n",
        "    - #### Comprobaciones.\n",
        "    - #### Numero del nodo, `g`, `h` y `f`, y actualización del set.\n",
        "    - #### Mejor camino?\n",
        "    - #### Finalización.\n",
        "    - #### Resumen del proceso.\n",
        "- ## Ejecución y Demostración.\n",
        "  - ### Mapas y sus caracteristicas.\n",
        "  - ### Muestras por mapa.\n",
        "- ## Heuristicas.\n",
        "  - ### Lista de Heuristicas.\n",
        "    - #### Uniforme.\n",
        "    - #### Manhattan.\n",
        "    - #### Euclidea.\n",
        "    - #### Chebyshev.\n",
        "  - ### Analisis entre Heuristicas.\n",
        "    - #### Uniforme.\n",
        "    - #### Manhattan.\n",
        "    - #### Euclidea.\n",
        "    - #### Chebyshev.\n",
        "  - ### Tablas Comparativas.\n",
        "- ## Traza de un problema.\n",
        "- ## Conclusiones.\n",
        "\n",
        "---\n",
        "\n",
        "<img width=\"100%\" src=\"https://i.imgur.com/Xozlnnz.png\" />\n",
        "\n",
        "<h3> Sobre el algoritmo A*</h3>\n",
        "\n",
        "El algoritmo A* es un algoritmo tentativo multicamino, y dependiendo de la heuristica a usar puede ser informado o no informado, así variando su patrón de busqueda.\n",
        "\n",
        "Este algoritmo mapea el mundo desde la casilla origen, avanzando y enlazando cada posición siguiente a la posición actual, creando varios caminos desde el origen, y explorandolos a la vez.\n",
        "\n",
        "La prioridad de busqueda de cada casilla se basa en el coste `f(n)` de cada casilla, así analizando siempre antes las casillas más cercanas al origen.\n",
        "\n",
        "Una vez que el algoritmo encuentra el destino en uno de sus caminos, este reconstrulle el camino usando los enlaces previos de cada casilla desde la casila destino hacia el origen, devolviendo el camino más corto entre los dos puntos.\n",
        "\n",
        "Según la definición del Algoritmo A\\* de Wikipedia es el siguiente: \n",
        "\n",
        "```MARKDOWN\n",
        "El algoritmo de búsqueda A* se clasifica dentro de los algoritmos de búsqueda \n",
        "en grafos. Presentado por primera vez en 1968 por Peter E. Hart, Nils J.\n",
        "Nilsson y Bertram Raphael, el algoritmo A* encuentra, siempre y cuando se \n",
        "cumplan unas determinadas condiciones, el camino de menor coste entre un nodo \n",
        "origen y uno objetivo.\n",
        "```\n",
        "\n",
        "<h3> Formula y Criterio </h3>\n",
        "\n",
        "El algoritmo A\\* utiliza una función de evaluación: `f*(n) = g*(n) + h*(n)` siendo:\n",
        "- `g*(n) = c (s, n)`: Coste del camino de coste mínimo desde el nodo inicial s al nodo n. Estimada por `g(n)`.\n",
        "\n",
        "- `h*(n)`: Coste del camino de coste mínimo de todos los caminos desde el nodo n a cualquier estado solución. Estimada por `h(n)`.\n",
        "\n",
        "- `f\\*(n)`: Coste del camino de coste mínimo desde el nodo inicial hasta un nodo solución condicionado a pasar por n. `f*(n) = g*(n) + h*(n)`. Estimada por `f(n)`.\n",
        "\n",
        "- `C*`: Coste del camino de coste mínimo desde el nodo inicial a un nodo solución.\n",
        "\n",
        "Como cualquier algoritmo de búsqueda en amplitud, A\\* es un algoritmo completo.\n",
        "\n",
        "Si hay una solución, siempre la encontrará. Para asegurar la optimización del algoritmo, la función `h(n)` debe ser heurísticamente admisible, es decir, no sobreestimará el costo real de alcanzar el nodo objetivo.\n",
        "\n",
        "Una función heurística h (n) se considera aceptable cuando se satisface: `h(n) ≤ h* (n) ∀n` .\n",
        "\n",
        "Cuanto más exactamente estimamos `h(n)`, menos nodos de búsqueda generaremos. \n",
        "\n",
        "\n"
      ]
    },
    {
      "cell_type": "markdown",
      "metadata": {
        "id": "FTAYa9lvoeN_"
      },
      "source": [
        "---\n",
        "\n",
        "<img width=\"100%\" src=\"https://i.imgur.com/KVszeiq.png\"/>\n",
        "Antes de empezar a explicar la implementación del propio código, vamos a explicar ciertas partes que se han modificado o añadido para desarollar la práctica de manera más facil.\n",
        "\n",
        "- ## `Casilla.py`\n",
        "\n",
        "A la clase casilla se la han sobrecargado varios operadores para poder operar de manera más rapida sobre ellas, además de haber creado un metodo hash para poder identificar unicamente a cada casilla por sus coordenadas, este metodo se usa para revisar si un nodo ha sido revisado previamente, por ejemplo."
      ]
    },
    {
      "cell_type": "code",
      "metadata": {
        "id": "5aNW4Agfofe5"
      },
      "source": [
        "...\n",
        "\n",
        "# == operator overload\n",
        "def __eq__(self, otro):\n",
        "    if type(otro) is Casilla:\n",
        "        return self.fila == otro.getFila() and self.col == otro.getCol()\n",
        "    elif type(otro) is tuple:\n",
        "        return self.fila == otro[0] and self.col == otro[1]\n",
        "    else:\n",
        "        raise ValueError(\n",
        "            'Error on the Casilla == overload. Data type invalid:' + type(otro).__name__)\n",
        "\n",
        "# + operator overload\n",
        "def __add__(self, otro):\n",
        "    if type(otro) is Casilla:\n",
        "        c = Casilla(self.fila + otro.getFila(),\n",
        "                    self.col + otro.getCol())\n",
        "    else:\n",
        "        raise ValueError(\n",
        "            'Error on the Casilla + overload. Data type invalid:' + type(otro).__name__)\n",
        "    return c\n",
        "\n",
        "# - operator overload\n",
        "def __sub__(self, otro):\n",
        "    if type(otro) is Casilla:\n",
        "        c = Casilla(self.fila - otro.getFila(),\n",
        "                    self.col - otro.getCol())\n",
        "    else:\n",
        "        raise ValueError(\n",
        "            'Error on the Casilla - overload. Data type invalid:' + type(otro).__name__)\n",
        "    return c\n",
        "\n",
        "# string operator overload\n",
        "def __str__(self):\n",
        "    return '(' + str(self.fila) + ', ' + str(self.col) + ')'\n",
        "\n",
        "# We created a unique hash for said slot\n",
        "def __hash__(self):\n",
        "    return hash(self.getTupla())\n",
        "\n",
        "# Returns slot\n",
        "def getTupla(self):\n",
        "    \"\"\"Returns a tuple version of the Slot class (Casilla)\"\"\"\n",
        "    return (self.fila, self.col)\n",
        "  \n",
        "..."
      ],
      "execution_count": null,
      "outputs": []
    },
    {
      "cell_type": "markdown",
      "metadata": {
        "id": "GB6sk5YWorDK"
      },
      "source": [
        "- ## `Mapa.py`\n",
        "\n",
        "Se ha añadido a la clase mapa un nuevo método que se usará para verificar si una casilla está dentro de las dimensiones del mapa."
      ]
    },
    {
      "cell_type": "code",
      "metadata": {
        "id": "2_w92ofgo3cW"
      },
      "source": [
        "...\n",
        "def inBounds(self, fila, columna):\n",
        "    if fila >= 0 and fila < self.alto and columna >= 0 and columna < self.ancho:\n",
        "        return True\n",
        "\n",
        "    return False\n",
        "..."
      ],
      "execution_count": null,
      "outputs": []
    },
    {
      "cell_type": "markdown",
      "metadata": {
        "id": "RCckdmJdqA75"
      },
      "source": [
        "- ## Archivo de heuristicas `heuristicas.py`.\n",
        "\n",
        "Se ha creado un archivo aparte que contiene metodos con formulas heuristicas (`heuristicas.py`), esta manera, solo hay que pasar por parametro al algoritmo A* la heuristica que se quiere usar, esto se hace desde el archivo `main.py`."
      ]
    },
    {
      "cell_type": "code",
      "metadata": {
        "id": "NYEfKqbVqgLH"
      },
      "source": [
        "# heuristicas.py\n",
        "def uniforme(actual, destino):\n",
        "    return 0\n",
        "\n",
        "\n",
        "def manhattan(actual, destino):\n",
        "    return abs(actual.getFila() - destino.getFila()) + abs(actual.getCol() - destino.getCol())\n",
        "    \n",
        "\n",
        "def euclidea(actual, destino):\n",
        "\n",
        "    dx = abs(actual.getFila() - destino.getFila()) ** 2\n",
        "    dy = abs(actual.getCol() - destino.getCol()) ** 2\n",
        "\n",
        "    return (dx * dx + dy * dy) ** (1/2)\n",
        "\n",
        "def chebyshev(actual, destino):\n",
        "    dx = abs(actual.getFila() - destino.getFila())\n",
        "    dy = abs(actual.getCol() - destino.getCol())\n",
        "\n",
        "    return max(dx, dy)"
      ],
      "execution_count": null,
      "outputs": []
    },
    {
      "cell_type": "markdown",
      "metadata": {
        "id": "YlUHkpowqvR7"
      },
      "source": [
        "Y despues, en el archivo `main.py`..."
      ]
    },
    {
      "cell_type": "code",
      "metadata": {
        "id": "lGcWbk6tq0dk"
      },
      "source": [
        "...\n",
        "\n",
        "# En la cabezera.\n",
        "from heuristicas import uniforme\n",
        "from heuristicas import euclidea\n",
        "from heuristicas import chebyshev\n",
        "from heuristicas import manhattan\n",
        "\n",
        "...\n",
        "\n",
        "# En el bucle del juego, al llamar al A*\n",
        "coste = AStar(mapa, origen, destino, camino, manhattan)\n",
        "\n",
        "..."
      ],
      "execution_count": null,
      "outputs": []
    },
    {
      "cell_type": "markdown",
      "metadata": {
        "id": "iH8rF2dIreAI"
      },
      "source": [
        "- ## `Node.py`\n",
        "\n",
        "Hemos creado aparte, una clase nodo, que usaremos para tratar cada casilla (`slot`), guardar el nodo desde el que proviene al explorar (`parent`), su numero de posición dentro de su camino (`number`), y sus valores `g`, `h` y `f`. \n",
        "\n",
        "Esta clase además, posee las sobrecargas de los operadores de igualdad y el de hash (hash generado usando las coordenadas de la casilla), que se usan para comprobar si dos instancias diferentes entre nodo hacen referencia a la misma casilla."
      ]
    },
    {
      "cell_type": "code",
      "metadata": {
        "id": "TS4Zol-usQ2X"
      },
      "source": [
        "# Elvi Mihai Sabau Sabau\n",
        "\n",
        "class Node():\n",
        "    \"\"\"A Node class, used to encapsulate each slot (Casilla) and assign them the g, h and f value, and also its position in its search path\"\"\"\n",
        "    def __init__(self, parent=None, slot=None):\n",
        "        self.parent = parent\n",
        "        self.slot = slot\n",
        "\n",
        "        # Distance from start point\n",
        "        self.g = 0\n",
        "\n",
        "        # Distance prediction until end point\n",
        "        self.h = 0\n",
        "\n",
        "        # Total distance.\n",
        "        self.f = 0\n",
        "\n",
        "        # Node number, used to enumerate pahts.\n",
        "        self.number = 0\n",
        "\n",
        "    # Overload of operator ==\n",
        "    def __eq__(self, otro):\n",
        "        return self.slot == otro.slot\n",
        "\n",
        "    # Hash method, we need this one so we can use sets.\n",
        "    def __hash__(self):\n",
        "        return self.slot.__hash__()\n"
      ],
      "execution_count": null,
      "outputs": []
    },
    {
      "cell_type": "markdown",
      "metadata": {
        "id": "7LJ9sbcVwCws"
      },
      "source": [
        "- ## `main.py`\n",
        "\n",
        "Además de lo anteriormente mencionado en el apartado del archivo de heuristicas, el archivo `main.js` ha sido modificado para poder imprimir en azul las casillas exploradas, y por consola, una matriz de cada celda con los caminos y su orden respectivo a su camino al ser explorados.\n"
      ]
    },
    {
      "cell_type": "code",
      "metadata": {
        "id": "K7U2dmVmwXlE"
      },
      "source": [
        "...\n",
        "\n",
        "# En la cabezera.\n",
        "AZUL = (0, 0, 255)\n",
        "\n",
        "...\n",
        "\n",
        "# En el bucle del juego.\n",
        "# pinta mapa\n",
        "for fil in range(mapa.getAlto()):\n",
        "    filastring = ''\n",
        "    \n",
        "    for col in range(mapa.getAncho()):\n",
        "\n",
        "        # Por cada tick, pinta el mapa, y imprime en consola los caminos\n",
        "        if mapa.getCelda(fil, col) == 2 and not primeraVez:\n",
        "            pygame.draw.rect(screen, BLANCO, [\n",
        "                              (TAM+MARGEN)*col+MARGEN, (TAM+MARGEN)*fil+MARGEN, TAM, TAM], 0)\n",
        "            filastring += '-1'.rjust(4)\n",
        "        if mapa.getCelda(fil, col) == 0:\n",
        "            if camino[fil][col] == '.':\n",
        "                pygame.draw.rect(screen, BLANCO, [\n",
        "                                  (TAM+MARGEN)*col+MARGEN, (TAM+MARGEN)*fil+MARGEN, TAM, TAM], 0)\n",
        "                filastring += '-1'.rjust(4)\n",
        "            elif camino[fil][col][0] == 1:\n",
        "                pygame.draw.rect(screen, AZUL, [\n",
        "                                  (TAM+MARGEN)*col+MARGEN, (TAM+MARGEN)*fil+MARGEN, TAM, TAM], 0)\n",
        "                filastring += str(camino[fil][col][1]).rjust(4)\n",
        "            elif camino[fil][col][0] == 0:\n",
        "                pygame.draw.rect(screen, AMARILLO, [\n",
        "                                  (TAM+MARGEN)*col+MARGEN, (TAM+MARGEN)*fil+MARGEN, TAM, TAM], 0)\n",
        "                filastring += ('[' + str(camino[fil][col][1]) + ']').rjust(4)\n",
        "\n",
        "        elif mapa.getCelda(fil, col) == 1:\n",
        "            pygame.draw.rect(\n",
        "                screen, ROJO, [(TAM+MARGEN)*col+MARGEN, (TAM+MARGEN)*fil+MARGEN, TAM, TAM], 0)\n",
        "            filastring += '-1'.rjust(4)\n",
        "        else:\n",
        "            filastring += '-1'.rjust(4)\n",
        "\n",
        "\n",
        "    print(filastring)\n",
        "\n",
        "  print(\"--------------------------------------------------\")\n",
        "\n",
        "..."
      ],
      "execution_count": null,
      "outputs": []
    },
    {
      "cell_type": "markdown",
      "metadata": {
        "id": "M-hdRDJ4w7Yi"
      },
      "source": [
        "---\n",
        "\n",
        "<img width=\"100%\" src=\"https://i.imgur.com/11tjekH.png\" />\n",
        "\n",
        "El archivo `AStart.py` contiene el algoritmo A* implementado, con los metodos necesarios para su operacion.\n",
        "\n",
        "Vamos a ir poco a poco, detallando cada parte de este archivo, explicando el algorimo y la funcionalidad del código en detalle.\n",
        "\n",
        "<h3> Métodos Auxiliares <h3>\n",
        "\n",
        "- `neighborSlots(node):`\n",
        "\n",
        "La funcion `neighborSlots` devuelve un array con las casillas vecinas del nodo que recibe por parametro.\n"
      ]
    },
    {
      "cell_type": "code",
      "metadata": {
        "id": "DcoPksFhxnhF"
      },
      "source": [
        "def neighborSlots(Node):\n",
        "    \"\"\"Get neighboring slots of the Node\"\"\"\n",
        "    casilla = Node.slot\n",
        "    # ↑ = ( 0, 1 )\n",
        "    # ↓ = ( 0, -1)\n",
        "    # → = (-1, 0 )\n",
        "    # ← = ( 1, 0 )\n",
        "    # ↗ = ( 1, 1 )\n",
        "    # ↘ = ( 1, -1)\n",
        "    # ↖ = (-1, 1 )\n",
        "    # ↙ = (-1, -1)\n",
        "    return [casilla + Casilla(0, 1), casilla + Casilla(0, -1), casilla + Casilla(1, 0), casilla + Casilla(-1, 0),\n",
        "            casilla + Casilla(1, 1), casilla + Casilla(1, -1), casilla + Casilla(-1, 1), casilla + Casilla(-1, -1)]\n"
      ],
      "execution_count": null,
      "outputs": []
    },
    {
      "cell_type": "markdown",
      "metadata": {
        "id": "zzBMAqZVxvDl"
      },
      "source": [
        "- `movementCost(n1, n2)`:\n",
        "\n",
        "Este metodo devuelve el coste del movimiento de un nodo `n1` al otro nodo `n2`. El coste varia dependiendo de si vecinos diagonales o no.\n",
        "Ambos nodos `n1` y `n2` deben ser vecinos para que funcione."
      ]
    },
    {
      "cell_type": "code",
      "metadata": {
        "id": "FoJ2gFwTyLZm"
      },
      "source": [
        "def movementCost(n1, n2):\n",
        "    \"\"\"Get the movement cost from n1 to n2 (both must be neighbors)\"\"\"\n",
        "    diagonal_movements = set({Casilla(1, 1), Casilla(1, -1),\n",
        "                              Casilla(-1, -1), Casilla(-1, 1)})\n",
        "\n",
        "    if ((n1.slot - n2.slot) in diagonal_movements):\n",
        "        return 1.5\n",
        "\n",
        "    return 1"
      ],
      "execution_count": null,
      "outputs": []
    },
    {
      "cell_type": "markdown",
      "metadata": {
        "id": "cEtY5Vc0v7pd"
      },
      "source": [
        "### Implementación.\n",
        "\n",
        "  #### `AStar(map, start_slot, end_slot, path, heuristic)`.\n",
        "\n",
        "  Esta es la definicion de nuestra funcion A*, recibe desde el main: el mapa, la casilla de inicio, la casilla destino, el array de casillas que representaria el camino-solucion, y la heuristica a usar.\n",
        " \n",
        "  "
      ]
    },
    {
      "cell_type": "code",
      "metadata": {
        "id": "bzxdA4pIReSQ"
      },
      "source": [
        "def AStar(map, start_slot, end_slot, path, heuristic):\n",
        "    \"\"\"A path-finding algorithm that maps all best paths from any end point to the start point.\"\"\"\n"
      ],
      "execution_count": null,
      "outputs": []
    },
    {
      "cell_type": "markdown",
      "metadata": {
        "id": "bp4MWMYWQwUS"
      },
      "source": [
        "   \n",
        "  #### Nodos de inicio y fin.\n",
        "    \n",
        "Las casillas de inicio y fin se convirten a nodos para poder manejarlos de manera mas facil en nuestro programa.\n",
        "\n",
        "\n"
      ]
    },
    {
      "cell_type": "code",
      "metadata": {
        "id": "ZpMOY37pRfhl"
      },
      "source": [
        "    # Create the start and end nodes.\n",
        "    start_node = Node(None, start_slot)\n",
        "    end_node = Node(None, end_slot)"
      ],
      "execution_count": null,
      "outputs": []
    },
    {
      "cell_type": "markdown",
      "metadata": {
        "id": "0WN2eryiQyXT"
      },
      "source": [
        "  #### Sets interior y frontera (sets `discovered` y `checked`).\n",
        "\n",
        "Creamos unos sets que representan la lista frontera (yo lo llamo `discovered` por el hecho de que alberga nodos descubiertos) y la lista interior (llamado `checked` por el hecho de que albergará los nodos comprobados), en mi A* usamos sets por el hecho de que un set en python se comporta como un HashTable, y el acceso a un elemento de un set es mucho mas rapido ( O(1) ). Y estoy acostumbrado a usarlos por dicha eficiencia.\n",
        "\n",
        "Añadimos el nodo origen al set de discovered, y empezamos la iteracion del bucle principal.\n",
        "\n"
      ]
    },
    {
      "cell_type": "code",
      "metadata": {
        "id": "ZnvW_jp1Rg2V"
      },
      "source": [
        "    # We also create our discovered (open set) and checked (closed set).\n",
        "    # Nodes that are discovered when looking for neighbor slots.\n",
        "    discovered = set()\n",
        "    # Nodes that are checked and aren't the end node.\n",
        "    checked = set()\n",
        "\n",
        "    # Add our start node to our discovered set.\n",
        "    discovered.add(start_node)\n"
      ],
      "execution_count": null,
      "outputs": []
    },
    {
      "cell_type": "markdown",
      "metadata": {
        "id": "ql2yTxiPQ0CO"
      },
      "source": [
        "  #### Bucle principal.\n",
        "\n",
        "Mientras que nuestro set de nodos descubiertos no este vacio, sacamos de dicho set el nodo con menor f siendo este el nodo más prometedor actual (el mejor de esta iteración) `current_best_node`, usando una función lambda aplicada a la función `min()`.\n",
        "\n"
      ]
    },
    {
      "cell_type": "code",
      "metadata": {
        "id": "3KEHvycMRpFq"
      },
      "source": [
        "    # Time to explore and map the paths, while there are still discovered nodes to check, we shall continue.\n",
        "    while discovered:\n",
        "\n",
        "        # We grab the node with lowest F from all discovered nodes.\n",
        "        current_best_node = min(discovered, key=lambda o: o.f)"
      ],
      "execution_count": null,
      "outputs": []
    },
    {
      "cell_type": "markdown",
      "metadata": {
        "id": "Yf8g-AlHQ1yR"
      },
      "source": [
        "  #### Destino Encontrado! Reconstruccion del camino desde los padres.\n",
        "  \n",
        "Comprobamos que nuestro mejor nodo prometedor actual es el destino, si lo es, recontruimos el camino desde el destino, usando la referencia que tiene cada nodo a su padre ( nodo desde el que se exploro el nodo actual ), y mientras que el padre del nodo sobre el que se itera no sea `None`, guardamos los nodos en una lista, siendo los valores de la clave las coordenadas de la casilla de cada nodo, y su valor una tupla en la cual, el primer numero representa si es un nodo explorado (1) o si hace parte del camino de la solución (0), y el segundo valor siendo el numero de casilla desde el origen al destino ( estos datos se usan mas tarde para dibujar las casillas de cierto color, y para imprimir por consola el mapa con el orden de las casillas exploradas por cada camino, y no tiene nada que ver con el algoritmo estrella, es solo para nuestro programa y la manera en la cual se muestran los datos ).\n",
        "\n",
        "De esta manera, tendremos una lista con todos los nodos desde el origen al destino, siendo este el mas optimo calculado usando la heuristica ejecutada, y devolvemos el coste total `f`.\n",
        "\n",
        "\n",
        "  \n"
      ]
    },
    {
      "cell_type": "code",
      "metadata": {
        "id": "TMGb6WdWSlTV"
      },
      "source": [
        "        # If that that node is the end node...\n",
        "        if current_best_node == end_node:\n",
        "\n",
        "            # Save f for later.\n",
        "            f = current_best_node.f\n",
        "\n",
        "            # Reconstruct the path.\n",
        "            while current_best_node:\n",
        "                current_slot = current_best_node.slot\n",
        "\n",
        "                # We assigna a value to the path slot, so we can draw colors over it later on, and also represent its order number.\n",
        "                path[current_slot.getFila()][current_slot.getCol()] = (\n",
        "                    0, current_best_node.number)\n",
        "\n",
        "                # If theres no more nodes to reconstruct, we are finished! :D\n",
        "                if not current_best_node.parent:\n",
        "                    return f\n",
        "                else:\n",
        "                    current_best_node = current_best_node.parent"
      ],
      "execution_count": null,
      "outputs": []
    },
    {
      "cell_type": "markdown",
      "metadata": {
        "id": "-y2ZcKWCQ3Z0"
      },
      "source": [
        "  #### Actualización del estado del nodo actual.\n",
        "\n",
        "Si al comprobar, el nodo actual no es el destino, lo sacamos de nuestro set de descubiertos, y lo guardamos en nuestro set de comprobados, y revisamos sus vecinos.\n",
        "  \n"
      ]
    },
    {
      "cell_type": "code",
      "metadata": {
        "id": "XP9BwhNyUNpe"
      },
      "source": [
        "        # We checked the node with lowest F, sadly that wasnt the end node, so we move it to the checked set.\n",
        "        discovered.remove(current_best_node)\n",
        "        checked.add(current_best_node)"
      ],
      "execution_count": null,
      "outputs": []
    },
    {
      "cell_type": "markdown",
      "metadata": {
        "id": "1epyxE0xQ4bf"
      },
      "source": [
        "  #### Bucle de los vecinos.\n",
        "  \n",
        "En un bucle, vamos a ir iterando por cada casilla vecina del nodo actual.\n",
        "  \n"
      ]
    },
    {
      "cell_type": "code",
      "metadata": {
        "id": "dHDH7-g-UcvQ"
      },
      "source": [
        "        # We check the neighboring nodes. For each neighbor coordinate..\n",
        "        for neighbor_slot in neighborSlots(current_best_node):"
      ],
      "execution_count": null,
      "outputs": []
    },
    {
      "cell_type": "markdown",
      "metadata": {
        "id": "Y1wYGD89Q6Ip"
      },
      "source": [
        "  #### Comprobaciones.\n",
        "  \n",
        "Comprobaremos que:\n",
        "- El nodo vecino no es una pared.\n",
        "- Que tampoco sus coordenadas apunten a una casilla que este fuera del mapa.\n",
        "- Ademas comprobamos si este nodo vecino ya se ha revisado con anterioridad ( si esta en el set de comprobados ), esta comprobacion se hace usando las coordenadas de la casilla implicitamente al tener las coordenadas de las casillas hasheadas.\n",
        "\n",
        "Si se da cualquiera de estos casos, se salta la iteracion actual y pasa al siguiente vecino.\n",
        "  \n"
      ]
    },
    {
      "cell_type": "code",
      "metadata": {
        "id": "vJ5i0Ud8Uwx9"
      },
      "source": [
        "            # Check if the current neighbor coordinate is actually in bounds of the map.\n",
        "            if not map.inBounds(neighbor_slot.getFila(), neighbor_slot.getCol()):\n",
        "                continue\n",
        "\n",
        "            # We make sure that the neighbor coordinate is not a wall\n",
        "            if map.getCelda(neighbor_slot.getFila(), neighbor_slot.getCol()) != 0:\n",
        "                continue\n",
        "\n",
        "            # Create a new node with the neighbor coordinates, and also attach the parent node (current best node) to it.\n",
        "            neighbor_node = Node(current_best_node, neighbor_slot)\n",
        "\n",
        "            # Check if the current neighbor node wasn't checked on previous iterations.\n",
        "            if neighbor_node in checked:\n",
        "                continue"
      ],
      "execution_count": null,
      "outputs": []
    },
    {
      "cell_type": "markdown",
      "metadata": {
        "id": "XWTG3bc_Q7PZ"
      },
      "source": [
        "  #### Numero del nodo, `g`, `h` y `f`, y actualización del set.\n",
        "  \n",
        "Una vez que haya pasado las comprobaciones, y comprobamos que el nodo vecino no este en el set de descubiertos...\n",
        "\n",
        "- Le asignamos el nodo actual como `parent` del nodo vecino.\n",
        "\n",
        "- Calculamos su `g` sumando la `g` actumulada del nodo prometedor actual con el coste del movimiento de este al vecino, este variando de si el nodo vecino esta en diagonal o no.\n",
        "\n",
        "- Su `h` dependiendo de la heuristica usada.\n",
        "\n",
        "- Y `f`, sumando `g` y `h`.\n",
        "\n",
        "- Ademas de actualizar su `number` siendo este la enumeracion del nodo en ese camino.\n",
        "\n",
        "Una vez hecho esto, guardamos el nodo vecino en el set de explorados, para que en la siguiente iteracion sea canditado a nodo actual `current_best_node`, y pasamos al siguiente vecino.\n",
        "  \n"
      ]
    },
    {
      "cell_type": "code",
      "metadata": {
        "id": "LBkCs25nVH1K"
      },
      "source": [
        "            if neighbor_node not in discovered:\n",
        "\n",
        "                neighbor_node.g = current_best_node.g + movementCost(current_best_node, neighbor_node)\n",
        "                neighbor_node.h = heuristic(neighbor_node.slot, end_node.slot)\n",
        "                neighbor_node.f = neighbor_node.g + neighbor_node.h\n",
        "                neighbor_node.number = current_best_node.number + 1\n",
        "\n",
        "                discovered.add(neighbor_node)\n",
        "                continue"
      ],
      "execution_count": null,
      "outputs": []
    },
    {
      "cell_type": "markdown",
      "metadata": {
        "id": "fGnMMR9PQ8yr"
      },
      "source": [
        "  #### Mejor camino?\n",
        "\n",
        "En caso de que nuestro nodo vecino ya este en el set de descubiertos, y el coste del movimiento del nodo actual al vecino, sea menor que el coste que tiene actualmente el vecino, actualizamos el padre del nodo vecino, y sus valores.\n",
        "\n",
        "Ya que esto significaria que hemos encontrado un camino ( de casilla a casilla ) mas optimo para ese vecino desde nuestro nodo prometedor actual.\n",
        "\n"
      ]
    },
    {
      "cell_type": "code",
      "metadata": {
        "id": "Ek-7MkZTVwvh"
      },
      "source": [
        "            # If we have already discovered the neighboring Node and the current best node has better values than the neighboring node's parent ...\n",
        "            for node_discovered in discovered:\n",
        "                if node_discovered == neighbor_node and node_discovered.g > current_best_node.g + movementCost(node_discovered, current_best_node):\n",
        "\n",
        "                    # We update g and the parent of the neighboring node! (A better path has been found to reach the neighboring Node.)\n",
        "                    node_discovered.g = current_best_node.g + \\\n",
        "                        movementCost(node_discovered, current_best_node)\n",
        "\n",
        "                    node_discovered.parent = current_best_node\n",
        "                    node_discovered.number = current_best_node.number + 1\n",
        "\n",
        "                break"
      ],
      "execution_count": null,
      "outputs": []
    },
    {
      "cell_type": "markdown",
      "metadata": {
        "id": "3MIO-U_aWLlw"
      },
      "source": [
        "  #### Finalización.\n",
        "\n",
        "  Este procedimiento se repite hasta que el nodo prometedor actual sea el destino, o que el set de nodos descubiertos esté vacio, en caso de que esto ultimo pasara, significaria que nuestro algoritmo ha explorado y revisado el mapa entero, y no ha encontrado el destino porque no existe, o no es accesible."
      ]
    },
    {
      "cell_type": "markdown",
      "metadata": {
        "id": "m18oVU6mQ9gr"
      },
      "source": [
        "  \n",
        "  #### Resumen del proceso.\n",
        "\n",
        "El algoritmo A* es un algoritmo que nos asegura que encontrara un camino de un punto A, a un punto cualquiera de nuestro dominio.\n",
        "\n",
        "</br>\n",
        "\n",
        "Dependiendo de la heurística que usemos para calcular el coste, esta puede ser mas pesada o mas ligera, o que la solución sea la mas optima o menos optima.\n",
        "\n",
        "\n",
        "</br>\n",
        "\n",
        "\n",
        "En general, el algoritmo A* lo que hace es revisar los nodos vecinos del nodo mas prometedor.\n",
        "\n",
        "</br>\n",
        "\n",
        "\n",
        "En cada iteración, se revisa el nodo mas prometedor hasta el momento ( nodo con menor F ), de una lista de nodos donde guardamos los nodos explorados hasta el momento, pero sin revisar.\n",
        "\n",
        "</br>\n",
        "\n",
        "\n",
        "La revisión consiste simplemente en comprobar si dicho nodo es el destino, y si no lo es, se revisa sus vecinos, y el nodo prometedor actual se cambia de lista, de la lista de nodos explorados sin revisar, a una lista donde guardamos los nodos revisados.\n",
        "\n",
        "</br>\n",
        "\n",
        "\n",
        "Hecho esto, comprobamos los nodos vecinos del nodo prometedor actual, comprobamos que no sean paredes, que sea un nodo que esta dentro del mapa, y además que no se haya revisado con anterioridad ( revisar que no haya ya un nodo en la lista de revisados con las mismas coordenadas ). Al hacer esto, nos aseguramos de que podemos pasar por ese nodo, y de que no se ha revisado con anterioridad.\n",
        "\n",
        "</br>\n",
        "\n",
        "\n",
        "Entonces, si el nodo vecino no esta en la lista de nodos explorados SIN revisar, por cada nodo vecino valido, calculamos su h dependiendo de la heurística, y calculamos su g sumándole el g acumulado del nodo prometedor actual + el coste del movimiento (dependiendo de la posición del nodo vecino, el coste al transitar del nodo prometedor actual al nodo vecino puede variar).\n",
        "\n",
        "</br>\n",
        "\n",
        "\n",
        "Además, muy importante, nos guardamos una referencia como \"nodo padre\" del nodo prometedor actual, en el nodo vecino, de esta manera, sabremos de donde hemos venido si encontramos el destino.\n",
        "\n",
        "</br>\n",
        "\n",
        "\n",
        "Una vez calculados los valores del nodo vecino, nos guardamos el nodo en la lista de nodos explorados sin revisar. De esta manera lo hacemos candidatos a nodo prometedor.\n",
        "\n",
        "</br>\n",
        "\n",
        "\n",
        "En caso de que el nodo vecino este en la lista de nodos explorados SIN revisar, comprobamos si movernos desde el nodo prometedor actual al vecino es mas facil que el camino que se tomo originalmente para pasar por el nodo vecino originalmente. La comprobación se hace comprobando si la g acumulada del nodo vecino es mayor que la g acumulada del nodo actual prometedor + el coste de moverse del nodo actual prometedor al nodo vecino.\n",
        "\n",
        "</br>\n",
        "\n",
        "\n",
        "Si lo es, recalculamos g para dicho vecino, y re-asignamos el nodo actual prometedor como la referencia de \"nodo padre\" para el nodo vecino.\n",
        "\n",
        "</br>\n",
        "\n",
        "\n",
        "Este proceso se repite en bucle mientras que hayan nodos dentro de la lista de nodos explorados sin revisar.\n",
        "\n",
        "</br>\n",
        "\n",
        "\n",
        "Si se da el caso de que el bucle acaba porque ya no quedan nodos para revisar en la lista de nodos explorados sin revisar, significaría que habremos explorado todo el dominio, y no hemos encontrado el destino.\n",
        "\n",
        "</br>\n",
        "\n",
        "\n",
        "Si se da el caso de que el nodo prometedor actual es el nodo destino, se reconstruye en una lista \"camino\" por ejemplo con un bucle, el camino recorrido usando las referencias de los padres consecutivamente añadiendo los nodos a la lista, hasta que el nodo a iterar no tiene ninguna referencia al nodo padre, esto significaría que hemos llegado a iterar sobre el nodo origen.\n",
        "\n",
        "</br>\n",
        "\n",
        "\n",
        "Actualmente, tendríamos una lista de nodos desde el destino al origen, asi que si queremos el camino del origen al destino, solo tenemos que darle la vuelta a nuestra lista \"camino\".\n",
        "\n",
        "\n",
        "</br>\n",
        "\n",
        "\n",
        "\n",
        "De esta manera, al estar priorizando el procesamiento del nodo mas prometedor en cada momento, se obtiene el camino mas corto entre 2 puntos.\n",
        "\n",
        "</br>\n",
        "\n",
        "\n",
        "Si se usa una heurística uniforme, se obtendrá la solución mas optima, pero a su vez, computacionalmente costosa.\n",
        "\n",
        "</br>\n",
        "\n",
        "\n",
        "El uso de otras heurísticas podrían ser mucho mas livianas, pero se podría dar el caso en el que no encuentre la solución mas optima debido a la sobreinformación de la heurística y características del estilo, dependiendo de como esta implementada dicha heurística. Una heurística puede ser optima y dominante sobre el resto para un problema, pero no significa que so sea para el resto de problemas del dominio."
      ]
    },
    {
      "cell_type": "markdown",
      "metadata": {
        "id": "Xfc5AGZeAW12"
      },
      "source": [
        "<hr>\n",
        "\n",
        "<img width=\"100%\" src=\"https://i.imgur.com/200evdy.png\" />\n",
        "\n",
        "### Mapas y sus caracteristicas.\n",
        "Los mapas del juego están ubicados en la carpeta `worlds`.\n",
        "\n",
        "En esta practica, se han proporcionado 3 mapas `mapa.txt`, `mapa2.txt` y `mapa3.txt`, estos mapas no son nada más que documentos de texto que nuestro juego parsea a celdas de diferentes tipos en el mapa.\n",
        "\n",
        "Hay 3 tipos de caracteres, cada uno parseado a un elemento diferente:\n",
        "- `#` Se parsea a una pared (celdas rojas).\n",
        "- `.` Se parsea a una celda transitable (celdas blancas).\n",
        "- `O` Se parsea al certido, nuestro personaje (celda origen).\n",
        "\n",
        "La celda destino la especificamos pinchando cualquier celda transitable.\n",
        "\n",
        "Estos mapas cubren la mayor parte de situaciónes que se pueden dar para nuestro problema, pero personalmente pensé son un poco escasos, por ello hice unos mapas aparte para realizar pruebas más intesivas, y provocando situaciónes más compejas de solucionar para el algoritmo.\n",
        "\n",
        "- `mapa4.txt` basado en el mapa `mapa.txt`, con zonas sin paredes, y situaciones especificas.\n",
        "- `mapaFinal.txt` que es el que usaremos en las comparaciones de heuristicas.\n",
        "- `stress.txt` que se ha usado para comprobaciones exhaustivas.\n",
        "- `1.txt` que se ha usado para comprobaciones superextraexhaustivas (no se recomienda abrir ya que es demasiado grande)\n",
        "- `mapablanco.txt` para revisar ciertas heuristicas.\n",
        "\n",
        "### Muestras por mapa.\n",
        "\n",
        "A continuación se muestran varias capturas de la ejecución de nuestro algoritmo A* en cada uno de los mapas mencionados anteriormente.\n",
        "\n",
        "La heuristica usada para estas ejecuciones es la `uniforme`.\n",
        "\n",
        "<div align=\"center\">\n",
        "  <h3>Mapa 1</h3>\n",
        "  <img width=\"36%\" src=\"https://i.imgur.com/mG1w8Jv.png\" />\n",
        "</div>\n",
        "\n",
        "<div align=\"center\">\n",
        "  <h3>Mapa 2</h3>\n",
        "  <img width=\"30%\" src=\"https://i.imgur.com/NgbYxq4.png\" />\n",
        "</div>\n",
        "\n",
        "<div align=\"center\">\n",
        "  <h3>Mapa 3</h3>\n",
        "  <img width=\"30%\" src=\"https://i.imgur.com/ZBDxMsM.png\" />\n",
        "</div>\n",
        "\n",
        "<div align=\"center\">\n",
        "  <h3>Mapa Blanco</h3>\n",
        "  <img width=\"40%\"  src=\"https://i.imgur.com/h1gnmVg.png\" />\n",
        "</div>\n",
        "\n",
        "<div align=\"center\">\n",
        "  <h3>Mapa 4</h3>\n",
        "  <img width=\"42%\"  src=\"https://i.imgur.com/bVo1K6Q.png\" />\n",
        "</div>\n",
        "\n",
        "<div align=\"center\">\n",
        "  <h3>Stress</h3>\n",
        "  <img width=\"100%\"  src=\"https://i.imgur.com/5yvPV0j.png\" />\n",
        "</div>\n",
        "\n",
        "<div align=\"center\">\n",
        "  <h3>Mapa Final</h3>\n",
        "  <img width=\"100%\"  src=\"https://i.imgur.com/bJaFP0x.png\" />\n",
        "</div>"
      ]
    },
    {
      "cell_type": "markdown",
      "metadata": {
        "id": "mMuGL2t0hBUG"
      },
      "source": [
        "<hr>\n",
        "\n",
        "<img width=\"100%\" src=\"https://i.imgur.com/ZABMmaN.png\" />\n",
        "\n",
        "Como se ha mencionado anteriormente, nuestro programa posee 4 heursiticas de las cuales elegir, las cuales afectaran el comportamiendo de nuestro algoritmo a la hora de buscar el destino y el camino más corto a el.\n",
        "\n",
        "Estas heuristicas, dependiendo de la cantidad de información que aporten al algoritmo, podrían hacer el computo mucho mas liviano, pero se podría dar el caso en el que no encuentre la solución mas optima debido a la sobreinformación de la heurística.\n",
        "\n",
        "Sependiendo de como esta implementada dicha heurística, una heurística puede ser optima y dominante sobre el resto para una situación en concreto, pero no significa que so sea para el resto de situaciónes que pueden pasar en el problema.\n",
        "\n",
        "En nuestro caso, las diferente situaciones son los diferentes caminos que podemos crear al pinchar en diferentes celdas destino, ya que no es lo mismo calcular como ir de A a B que ir de X a Y.\n",
        "\n",
        "### Lista de Heuristicas.\n",
        "\n",
        "#### Desinformadas.\n",
        "  - #### Uniforme.\n",
        "    La heuristica uniforme es sencillo, se le asigna a `h` el valor de 0 siempre, haciendo que la busqueda sea desinformada, y uniforme.\n",
        "      <div align=\"center\">\n",
        "    <img width=\"50%\" src=\"https://i.imgur.com/gvvsw8u.png\" />\n",
        "  </div>\n",
        "\n",
        "\n"
      ]
    },
    {
      "cell_type": "code",
      "metadata": {
        "id": "eAsGZIjiqLxT"
      },
      "source": [
        "def uniforme(actual, destino):\n",
        "    return 0"
      ],
      "execution_count": null,
      "outputs": []
    },
    {
      "cell_type": "markdown",
      "metadata": {
        "id": "EhB9eRHNqL_Y"
      },
      "source": [
        "\n",
        "#### Informadas.\n",
        "  - #### Manhattan.\n",
        "      La heuristica de la distancia manhattan es una heuristica que trae su nombre de los taxistas de Manhattan, ya que estos, al hacer transiciones diagonales, tenian que hacer zig-zags en cada calle.\n",
        "      \n",
        "  <div align=\"center\">\n",
        "    <img  src=\"https://i.imgur.com/2ebVwxF.png\" />\n",
        "  </div>\n",
        "\n"
      ]
    },
    {
      "cell_type": "code",
      "metadata": {
        "id": "hOhoDoj-qNTE"
      },
      "source": [
        "def manhattan(actual, destino):\n",
        "    return abs(actual.getFila() - destino.getFila()) + abs(actual.getCol() - destino.getCol())"
      ],
      "execution_count": null,
      "outputs": []
    },
    {
      "cell_type": "markdown",
      "metadata": {
        "id": "9mfpFkiJqNYi"
      },
      "source": [
        "  - Euclidea.\n",
        "    La heuristica euclideana permite la busqueda en trazados rectos, y como en nuestro caso, se permite el movimiento diagonal, la podemos implementar.\n",
        "\n",
        "      <div align=\"center\">\n",
        "        <img src=\"https://i.imgur.com/XrzaiSu.png\" />\n",
        "      </div>\n",
        "\n"
      ]
    },
    {
      "cell_type": "code",
      "metadata": {
        "id": "nCIJMysGqOjX"
      },
      "source": [
        "def euclidea(actual, destino):\n",
        "\n",
        "    dx = abs(actual.getFila() - destino.getFila())\n",
        "    dy = abs(actual.getCol() - destino.getCol())\n",
        "\n",
        "    return (dx * dx + dy * dy) ** (1/2)"
      ],
      "execution_count": null,
      "outputs": []
    },
    {
      "cell_type": "markdown",
      "metadata": {
        "id": "KpxdELFEqOp3"
      },
      "source": [
        "  - #### Chebyshev.\n",
        "    También se conoce como distancia del tablero de ajedrez, ya que en el juego de ajedrez el número mínimo de movimientos que necesita un rey para ir de una casilla a otra en un tablero de ajedrez es igual a la distancia de Chebyshev entre los centros de las casillas.\n",
        "<div align=\"center\">\n",
        "      <img src=\"https://i.imgur.com/BkTld1s.png\" />\n",
        "    </div>"
      ]
    },
    {
      "cell_type": "code",
      "metadata": {
        "id": "YQKW6VM1saVE"
      },
      "source": [
        "def chebyshev(actual, destino):\n",
        "    dx = abs(actual.getFila() - destino.getFila())\n",
        "    dy = abs(actual.getCol() - destino.getCol())\n",
        "\n",
        "    return max(dx, dy)"
      ],
      "execution_count": null,
      "outputs": []
    },
    {
      "cell_type": "markdown",
      "metadata": {
        "id": "RjwUlzghaiAH"
      },
      "source": [
        "### Comparativa y analisis entre Heuristicas."
      ]
    },
    {
      "cell_type": "markdown",
      "metadata": {
        "id": "qfRdbJRlavVE"
      },
      "source": [
        "Para todas las heuristicas, se realizará la prueba de 3 caminos en el mapa `mapaFinal.txt`.\n",
        "\n",
        "Realizamos las ejecuciones por cada heuristica.\n",
        "\n",
        "\n",
        "<div align=\"center\" >\n",
        "\n",
        "#### Uniforme.\n",
        "</div>\n",
        "\n",
        "La heuristica uniforme, da el camino más optimo como podemos ver en las tablas, pero es el que más nodos explora. Esta heuristica al ser la que siempre va a dar el camino más corto, se considera una heuristica admisible.\n",
        "\n",
        "- 1er Tramo:\n",
        "<img src=\"https://i.imgur.com/trKRs16.jpg\" />\n",
        "\n",
        "- 2ndo Tramo:\n",
        "<img src=\"https://i.imgur.com/6e134w5.jpg\" />\n",
        "\n",
        "- 3er Tramo:\n",
        "<img src=\"https://i.imgur.com/ZkmhbZS.jpg\" />\n",
        "\n",
        "<div align=\"center\" >\n",
        "\n",
        "#### Manhattan.\n",
        "</div>\n",
        "\n",
        "La heuristica manhattan explora menos nodos, pero su solución no siemprpe será la más optima, debido a que la heuristica esta sobreinformada para ciertos movimientos, siendo esta inadmisible. Ademas, podemos observar que se comporta de manera erronea en 8con, seguramente porque esta diseñada para 4con y no tiene en cuenta los tramos diagonales.\n",
        "\n",
        "- 1er Tramo:\n",
        "<img src=\"https://i.imgur.com/fjltroL.png\" width=\"100%\" />\n",
        "\n",
        "- 2ndo Tramo:\n",
        "<img src=\"https://i.imgur.com/0ijJz5d.png\" width=\"100%\" />\n",
        "\n",
        "- 3er Tramo:\n",
        "<img src=\"https://i.imgur.com/sQkPuTN.png\" width=\"100%\" />\n",
        "\n",
        "\n",
        "\n",
        "<div align=\"center\" >\n",
        "\n",
        "#### Euclidea.\n",
        "</div>\n",
        "\n",
        "Con la heuristica Euclidea vemos que realiza casi la misma traza que el manhattan, siendo este inadmisible, pero explora menos nodos que manhattan.\n",
        "\n",
        "\n",
        "- 1er Tramo:\n",
        "<img src=\"https://i.imgur.com/yYUkwN2.png\" width=\"100%\" />\n",
        "\n",
        "- 2ndo Tramo:\n",
        "<img src=\"https://i.imgur.com/fOKtvPh.png\" width=\"100%\" />\n",
        "\n",
        "- 3er Tramo:\n",
        "<img src=\"https://i.imgur.com/cwgNzFf.png\" width=\"100%\" />\n",
        "\n",
        "<div align=\"center\" >\n",
        "\n",
        "#### Chebyshev.\n",
        "\n",
        "</div>\n",
        "\n",
        "El algoritmo de chebyshev tampoco es admisible, pero el caso del 2ndo Tramo se ha dado la situación en la cual nos ha devuelto el camino más corto, explorando menos casillas que el algoritmo uniforme.\n",
        "\n",
        "- 1er Tramo:\n",
        "<img src=\"https://i.imgur.com/FvPyP8M.png\" width=\"100%\" />\n",
        "\n",
        "- 2ndo Tramo:\n",
        "<img src=\"https://i.imgur.com/Huy0ENF.png\" width=\"100%\" />\n",
        "\n",
        "- 3er Tramo:\n",
        "<img src=\"https://i.imgur.com/BvD0JXi.png\" width=\"100%\" />\n",
        "\n",
        "<hr>\n",
        "\n",
        "## Tablas comparativas.\n",
        "\n",
        "A continuacion se compara los nodos revisados, coste, tiempo, y la longitud del camino.\n",
        "\n",
        "1er Tramo:\n",
        "\n",
        "| Heuristica | Nodos revisados | Coste | Tiempo (ms) |\n",
        "|:----------:|:---------------:|:-----:|:-----------:|\n",
        "| Uniforme   |       533       |  41,5 |    5.059    |\n",
        "| Manhattan  |       247       |  43,5 |    4.736    |\n",
        "| Euclidea   |       58        |  43,5 |    3.761    |\n",
        "| Chebyshev  |       324       |  43,5 |    4.932    |\n",
        "\n",
        "\n",
        "\n",
        "2ndo Tramo:\n",
        "\n",
        "| Heuristica | Nodos revisados | Coste | Tiempo (ms) |\n",
        "|:----------:|:---------------:|:-----:|:-----------:|\n",
        "| Uniforme   |       688       |  77,5 |    4.116    |\n",
        "| Manhattan  |       525       |  79,5 |    1.490    |\n",
        "| Euclidea   |       127       |  78,5 |    3.971    |\n",
        "| Chebyshev  |       585       |  77,5 |    3.621    |\n",
        "\n",
        "3er Tramo:\n",
        "\n",
        "| Heuristica | Nodos revisados | Coste | Tiempo (ms) |\n",
        "|:----------:|:---------------:|:-----:|:-----------:|\n",
        "| Uniforme   |       593       |  65,5 |    4.020    |\n",
        "| Manhattan  |       370       |  69.5 |    2.626    |\n",
        "| Euclidea   |       161       |  69.5 |    3.720    |\n",
        "| Chebyshev  |       405       |  70.0 |    2.477    |\n",
        "\n",
        "</div>\n",
        "\n",
        "<hr>"
      ]
    },
    {
      "cell_type": "code",
      "metadata": {
        "colab": {
          "base_uri": "https://localhost:8080/",
          "height": 350
        },
        "id": "Iu5vywwkuSC1",
        "outputId": "633e852e-ac52-4db5-b3fb-f1fe9c041e7f"
      },
      "source": [
        "import numpy as np\n",
        "from matplotlib import pyplot as plt\n",
        "\n",
        "plt.figure(figsize=(15, 5))\n",
        "\n",
        "# Uniforme\n",
        "y = [533,  593, 688]\n",
        "x = [41.5, 65.5, 77.5]\n",
        "\n",
        "plt.plot(x, y, '-', label=\"Uniforme\", marker='o')\n",
        "\n",
        "# Manhattan\n",
        "y = [247,  370, 525]\n",
        "x = [43.5, 69.5, 79.5]\n",
        "\n",
        "plt.plot(x, y, '-', label=\"Manhattan\", marker='o')\n",
        "\n",
        "# Euclidea\n",
        "y = [308, 391, 525]\n",
        "x = [43.5, 69.5, 78.5]\n",
        "\n",
        "plt.plot(x, y, '-', label=\"Euclidea\", marker='o')\n",
        "\n",
        "# Chebyshev\n",
        "y = [324, 405, 585]\n",
        "x = [43.5, 70, 77.5]\n",
        "\n",
        "plt.plot(x, y, '-', label=\"Chebyshev\", marker='o')\n",
        "\n",
        "\n",
        "plt.title(\"Comparativa entre heuristicas.\")\n",
        "plt.xlabel(\"Coste\")\n",
        "plt.ylabel(\"Nodos Explorado\")\n",
        "\n",
        "plt.legend()\n",
        "\n",
        "\n",
        "plt.show()"
      ],
      "execution_count": 7,
      "outputs": [
        {
          "output_type": "display_data",
          "data": {
            "image/png": "[encoded data removed]",
            "text/plain": [
              "<Figure size 1080x360 with 1 Axes>"
            ]
          },
          "metadata": {
            "needs_background": "light"
          }
        }
      ]
    },
    {
      "cell_type": "markdown",
      "metadata": {
        "id": "ddRHNfAvrdzk"
      },
      "source": [
        "## Traza de un problema.\n",
        "\n",
        "En este apartado realizaremos la traza de un problema corto, con h = 0.\n",
        "\n",
        "<br>\n",
        "\n",
        "\n",
        "### pre-inicio.\n",
        "Se declara la lista frontera y interna.\n",
        "Se crea un nodo para el destino y para el origen.\n",
        "Se guarda el nodo origen en la lista frontera.\n",
        "\n",
        "Y, mientras que la lista frontera no esté vacia, se realiza un bucle.\n",
        "\n",
        "<br>\n",
        "\n",
        "\n",
        "### Por cada iteración.\n",
        "Se obtiene el nodo con menor F de la lista frontera, lo llamaremos ( nodo actual prometedor ) porque es el nodo con el que se trabajará en esta iteración.\n",
        "Se comprueba si ese nodo es el destino.\n",
        "Si lo es, se reconstrulle el camino y devuelve el coste, y si no lo es, continua.\n",
        "\n",
        "Por cada casilla vecina del nodo actual:\n",
        "- Se comprueba que no sea una pared.\n",
        "- Se comprueba que esté dentro del mapa.\n",
        "- Se comprueba que no haya un nodo con dicha casilla en la lista interna.\n",
        "\n",
        "Si alguno de los casos anteriores se da, continua con el siguiente vecino.\n",
        "\n",
        "En caso contrario, crea un nodo con dicha casilla, y calcula sus h, g, y f.\n",
        "\n",
        "- Se comprueba que no haya un nodo con dicha casilla en la lista frontera. Si lo está, comprueba si la g del nodo actual es menor que el de la lista frontera, y si lo es, se reemplaza.\n",
        "\n",
        "<br>\n",
        "\n",
        "\n",
        "### Fin.\n",
        "\n",
        "El programa finaliza cuando se encuentra el destino, o cuando la lista frontera está vacia, esto ultimo significa que no se ha encontrado el destino.\n",
        "\n",
        "<br>\n",
        "\n",
        "\n",
        "A continuacion se muestra un ejemplo de la traza.\n",
        "\n",
        "<hr>\n",
        "\n",
        "Las casilla rosa representa el origen, y el verde el destino.\n",
        "\n",
        "Las casillas amariillas representan casillas revisadas, y las casillas azules representan las casillas vecinas sin revisar.º\n",
        "\n",
        "<img src=\"https://i.imgur.com/cqPIqyr.png\" />\n",
        "\n"
      ]
    },
    {
      "cell_type": "markdown",
      "metadata": {
        "id": "0_eNKp6TBygu"
      },
      "source": [
        "## Conclusiones.\n",
        "\n",
        "El algoritmo A* nos devolverá siempre el camino más corto si existe, pero el coste computacional se dispara mientras más lejos esté el destino, ya que cada vez va a calcular más y más nodos.\n",
        "\n",
        "<br>\n",
        "\n",
        "Para recir este coste computacional, el algoritmo se puede volver informado cuando aplicamos una heuristica que aporte información sobre el destino, de tal manera que ayude a la busqueda del camino más corto, añadiendo otro factor de ponderación.\n",
        "\n",
        "<br>\n",
        "\n",
        "Aún así, dependiendo de la heuristica, no todas serán admisibles, ya que aunque en la mayoria de casos nos devuelva el camino más corto, hay cierta posibilidad de que no sea así.\n",
        "\n",
        "<br>\n",
        "\n",
        "Un buen ejemplo de esto seria la aplicación de Google Maps, en la grán mayoria de los casos, nos devolverá el camino más corto, pero en ciertos casos nos recomendará un camino que no seria el directo, y en algunos otros nos recomendará caminos que den pequeñas vueltas sin sentido antes de llegar al destino.\n",
        "\n",
        "<br>\n",
        "\n",
        "Esto se debe a la sobreinformación que aporta al heuristica al algoritmo, aún así, la mayoria de veces, una heuristica no adminisble seguirá siendo más provechosa que usar una heuristica admisible pero costosa computacionalmente hablando."
      ]
    }
  ]
}